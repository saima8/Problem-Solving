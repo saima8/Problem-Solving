{
  "nbformat": 4,
  "nbformat_minor": 0,
  "metadata": {
    "colab": {
      "name": "CodeWars-12/10/21.ipynb",
      "provenance": [],
      "authorship_tag": "ABX9TyOS/XZWHwtZlbD5SSWdEs3z",
      "include_colab_link": true
    },
    "kernelspec": {
      "name": "python3",
      "display_name": "Python 3"
    },
    "language_info": {
      "name": "python"
    }
  },
  "cells": [
    {
      "cell_type": "markdown",
      "metadata": {
        "id": "view-in-github",
        "colab_type": "text"
      },
      "source": [
        "<a href=\"https://colab.research.google.com/github/saima8/Problem-Solving/blob/main/CodeWars_12_10_21.ipynb\" target=\"_parent\"><img src=\"https://colab.research.google.com/assets/colab-badge.svg\" alt=\"Open In Colab\"/></a>"
      ]
    },
    {
      "cell_type": "markdown",
      "metadata": {
        "id": "MLjdJp8io-Do"
      },
      "source": [
        "Convert number to reversed array of digits"
      ]
    },
    {
      "cell_type": "code",
      "metadata": {
        "id": "hCvkj5v90_cn"
      },
      "source": [
        "def digitize(n):\n",
        "    return string(n).split('')"
      ],
      "execution_count": null,
      "outputs": []
    }
  ]
}