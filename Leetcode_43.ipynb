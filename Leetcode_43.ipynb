{
  "nbformat": 4,
  "nbformat_minor": 0,
  "metadata": {
    "colab": {
      "name": "Leetcode-43.ipynb",
      "provenance": [],
      "authorship_tag": "ABX9TyMaCzxeAGE9KKxZz2XkXWic",
      "include_colab_link": true
    },
    "kernelspec": {
      "name": "python3",
      "display_name": "Python 3"
    },
    "language_info": {
      "name": "python"
    }
  },
  "cells": [
    {
      "cell_type": "markdown",
      "metadata": {
        "id": "view-in-github",
        "colab_type": "text"
      },
      "source": [
        "<a href=\"https://colab.research.google.com/github/saima8/Problem-Solving/blob/main/Leetcode_43.ipynb\" target=\"_parent\"><img src=\"https://colab.research.google.com/assets/colab-badge.svg\" alt=\"Open In Colab\"/></a>"
      ]
    },
    {
      "cell_type": "code",
      "metadata": {
        "colab": {
          "base_uri": "https://localhost:8080/"
        },
        "id": "hTTQ3ZGmdDUA",
        "outputId": "07eeb252-9a6d-4561-ac38-2962dd52c3c0"
      },
      "source": [
        "num = \"123\"\n",
        "value = {'0':0, '1':1, '2':2, '3':3, '4':4, '5':5, '6':6, '7':7, '8':8, '9':9}\n",
        "\n",
        "count = value[num[0]]\n",
        "for i in range(len(num)-1):\n",
        "  count = count * 10 + value[num[i+1]]\n",
        "\n",
        "print(count)"
      ],
      "execution_count": 3,
      "outputs": [
        {
          "output_type": "stream",
          "name": "stdout",
          "text": [
            "123\n"
          ]
        }
      ]
    },
    {
      "cell_type": "code",
      "metadata": {
        "colab": {
          "base_uri": "https://localhost:8080/"
        },
        "id": "G8kcPFW6eLbF",
        "outputId": "e27161e0-e255-4481-8553-d16f13a7558c"
      },
      "source": [
        "num2 = \"98765\"\n",
        "value = {'0':0, '1':1, '2':2, '3':3, '4':4, '5':5, '6':6, '7':7, '8':8, '9':9}\n",
        "\n",
        "count = value[num[0]]\n",
        "for i in range(len(num2)-1):\n",
        "  count = count * 10 + value[num2[i+1]]\n",
        "print(num2)"
      ],
      "execution_count": 6,
      "outputs": [
        {
          "output_type": "stream",
          "name": "stdout",
          "text": [
            "98765\n"
          ]
        }
      ]
    },
    {
      "cell_type": "code",
      "metadata": {
        "id": "1hJ_94Z4enxY"
      },
      "source": [
        "# My\n",
        "class Solution:\n",
        "    def multiply(self, num1: str, num2: str) -> str:\n",
        "        value = {'0':0, '1':1, '2':2, '3':3, '4':4, '5':5, '6':6, '7':7, '8':8, '9':9}\n",
        "\n",
        "        count1 = value[num1[0]]\n",
        "        for i in range(len(num1)-1):\n",
        "            count1 = count1 * 10 + value[num1[i+1]]\n",
        "\n",
        "        count2 = value[num2[0]]\n",
        "        for i in range(len(num2)-1):\n",
        "            count2 = count2 * 10 + value[num2[i+1]]\n",
        "\n",
        "        return str(count1 * count2)"
      ],
      "execution_count": 9,
      "outputs": []
    },
    {
      "cell_type": "code",
      "metadata": {
        "id": "x8RylYn3gox_"
      },
      "source": [
        "#Leeetcode\n",
        "class Solution:\n",
        "    def multiply(self, num1: str, num2: str) -> str:\n",
        "        if num1 == \"0\" or num2 == \"0\":\n",
        "            return \"0\"\n",
        "        \n",
        "        # Initialize answer as a string of zeros of length N.\n",
        "        N = len(num1) + len(num2)\n",
        "        answer = [0] * N\n",
        "        \n",
        "        # Reverse num1 and num2\n",
        "        first_number = num1[::-1]\n",
        "        second_number = num2[::-1]\n",
        "        \n",
        "        for place2, digit2 in enumerate(second_number):\n",
        "            # For each digit in second_number multiply the digit by all digits in first_number.\n",
        "            for place1, digit1 in enumerate(first_number):\n",
        "                # The number of zeros from multiplying to digits depends on the place\n",
        "                # of digit2 in second_number and the place of the digit1 in first_number.\n",
        "                num_zeros = place1 + place2\n",
        "                \n",
        "                # The digit currently at position numZeros in the answer string\n",
        "                # is carried over and summed with the current result.\n",
        "                carry = answer[num_zeros]\n",
        "                multiplication = int(digit1) * int(digit2) + carry\n",
        "                \n",
        "                # Set the ones place of the multiplication result.\n",
        "                answer[num_zeros] = multiplication % 10\n",
        "                \n",
        "                # Carry the tens place of the multiplication result by \n",
        "                # adding it to the next position in the answer array.\n",
        "                answer[num_zeros + 1] += multiplication // 10\n",
        "        \n",
        "        # Pop the excess 0 from the end of answer.\n",
        "        if answer[-1] == 0:\n",
        "            answer.pop()\n",
        "            \n",
        "        return ''.join(str(digit) for digit in reversed(answer))"
      ],
      "execution_count": 10,
      "outputs": []
    }
  ]
}