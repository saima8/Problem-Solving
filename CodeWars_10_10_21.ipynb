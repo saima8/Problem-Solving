{
  "nbformat": 4,
  "nbformat_minor": 0,
  "metadata": {
    "colab": {
      "name": "CodeWars-10/10/21.ipynb",
      "provenance": [],
      "authorship_tag": "ABX9TyO2k8TM+d3+DEZbii8AtNOe",
      "include_colab_link": true
    },
    "kernelspec": {
      "name": "python3",
      "display_name": "Python 3"
    },
    "language_info": {
      "name": "python"
    }
  },
  "cells": [
    {
      "cell_type": "markdown",
      "metadata": {
        "id": "view-in-github",
        "colab_type": "text"
      },
      "source": [
        "<a href=\"https://colab.research.google.com/github/saima8/Problem-Solving/blob/main/CodeWars_10_10_21.ipynb\" target=\"_parent\"><img src=\"https://colab.research.google.com/assets/colab-badge.svg\" alt=\"Open In Colab\"/></a>"
      ]
    },
    {
      "cell_type": "markdown",
      "metadata": {
        "id": "4GLkODpIa2Ek"
      },
      "source": [
        "## Square(n) Sum"
      ]
    },
    {
      "cell_type": "code",
      "metadata": {
        "colab": {
          "base_uri": "https://localhost:8080/"
        },
        "id": "smBg3aLmXxX2",
        "outputId": "802612d2-c156-4268-92e2-0d14569f73e8"
      },
      "source": [
        "def square_sum(numbers):\n",
        "    #your code here\n",
        "    squares = []\n",
        "    for num in numbers:\n",
        "      squares.append( num ** 2)\n",
        "\n",
        "    return sum(squares)\n",
        "\n",
        "square_sum([1,2,3])"
      ],
      "execution_count": null,
      "outputs": [
        {
          "output_type": "execute_result",
          "data": {
            "text/plain": [
              "14"
            ]
          },
          "metadata": {},
          "execution_count": 3
        }
      ]
    },
    {
      "cell_type": "markdown",
      "metadata": {
        "id": "bBfM_avRduR_"
      },
      "source": [
        "## Keep Hydrated!"
      ]
    },
    {
      "cell_type": "code",
      "metadata": {
        "colab": {
          "base_uri": "https://localhost:8080/"
        },
        "id": "xa67YUqnc1CM",
        "outputId": "c2c22647-d6b9-4f25-8546-64407dbe0550"
      },
      "source": [
        "import math\n",
        "def litres(time):\n",
        "    return math.floor(time * 0.5)\n",
        "\n",
        "litres(3)"
      ],
      "execution_count": null,
      "outputs": [
        {
          "output_type": "execute_result",
          "data": {
            "text/plain": [
              "1"
            ]
          },
          "metadata": {},
          "execution_count": 10
        }
      ]
    },
    {
      "cell_type": "markdown",
      "metadata": {
        "id": "wNl2gy1vebl0"
      },
      "source": [
        "## Function 1 - hello world"
      ]
    },
    {
      "cell_type": "code",
      "metadata": {
        "colab": {
          "base_uri": "https://localhost:8080/",
          "height": 35
        },
        "id": "PucfroI4eJK_",
        "outputId": "5a13610e-71a1-4f9b-d2fc-096ca698eab7"
      },
      "source": [
        "def greet():\n",
        "    return 'hello world!'\n",
        "\n",
        "greet()"
      ],
      "execution_count": null,
      "outputs": [
        {
          "output_type": "execute_result",
          "data": {
            "application/vnd.google.colaboratory.intrinsic+json": {
              "type": "string"
            },
            "text/plain": [
              "'hello world!'"
            ]
          },
          "metadata": {},
          "execution_count": 15
        }
      ]
    },
    {
      "cell_type": "markdown",
      "metadata": {
        "id": "KGi3EVuUaDtr"
      },
      "source": [
        "### Practice"
      ]
    },
    {
      "cell_type": "code",
      "metadata": {
        "colab": {
          "base_uri": "https://localhost:8080/"
        },
        "id": "EzDwITiTeJsu",
        "outputId": "b00487d8-5004-4d49-d540-2f2b9cd8009e"
      },
      "source": [
        "from math import sqrt\n",
        "def solve(n):\n",
        "   sq_root = int(sqrt(n))\n",
        "   return (sq_root*sq_root) == n\n",
        "n = 36\n",
        "print (solve(n))"
      ],
      "execution_count": null,
      "outputs": [
        {
          "output_type": "stream",
          "name": "stdout",
          "text": [
            "True\n"
          ]
        }
      ]
    },
    {
      "cell_type": "markdown",
      "metadata": {
        "id": "ltO5JX57aHlb"
      },
      "source": [
        "## Century From Year"
      ]
    },
    {
      "cell_type": "code",
      "metadata": {
        "id": "XiVoxqAiiBZ9",
        "colab": {
          "base_uri": "https://localhost:8080/"
        },
        "outputId": "46cbe5d6-631a-486a-f5b9-1671b4257123"
      },
      "source": [
        "def century(year):\n",
        "    # Finish this :)\n",
        "    if year % 100 == 0:\n",
        "      return year / 100\n",
        "    return int((year / 100) + 1)\n",
        "\n",
        "century(1705)"
      ],
      "execution_count": null,
      "outputs": [
        {
          "output_type": "execute_result",
          "data": {
            "text/plain": [
              "18"
            ]
          },
          "metadata": {},
          "execution_count": 7
        }
      ]
    },
    {
      "cell_type": "markdown",
      "metadata": {
        "id": "IAFaP_MGbNul"
      },
      "source": [
        "## Basic Mathematical Operations"
      ]
    },
    {
      "cell_type": "code",
      "metadata": {
        "id": "VHBqvGOSbOuV"
      },
      "source": [
        "def basic_op(operator, value1, value2):\n",
        "    #your code here\n",
        "    if operator == '+':\n",
        "      return value1 + value2\n",
        "    elif operator == '-':\n",
        "      return value1 - value2\n",
        "    elif operator == '*':\n",
        "      return value1 * value2\n",
        "    elif operator == '/':\n",
        "      return value1 / value2"
      ],
      "execution_count": null,
      "outputs": []
    },
    {
      "cell_type": "markdown",
      "metadata": {
        "id": "lBPaPmX6YbT6"
      },
      "source": [
        "## Shortest Word"
      ]
    },
    {
      "cell_type": "code",
      "metadata": {
        "colab": {
          "base_uri": "https://localhost:8080/"
        },
        "id": "fuEM9K8OYaDn",
        "outputId": "dd7fc732-254e-43ce-dc6b-2b4c8cf1ec04"
      },
      "source": [
        "def find_short(s):\n",
        "    # your code here\n",
        "    words = s.split(\" \")\n",
        "    lengths = []\n",
        "    for i in words:\n",
        "      lengths.append(len(i))\n",
        "    return min(lengths)\n",
        "\n",
        "find_short('My name is Saima Khan')"
      ],
      "execution_count": 2,
      "outputs": [
        {
          "output_type": "execute_result",
          "data": {
            "text/plain": [
              "2"
            ]
          },
          "metadata": {},
          "execution_count": 2
        }
      ]
    }
  ]
}