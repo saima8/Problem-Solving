{
  "nbformat": 4,
  "nbformat_minor": 0,
  "metadata": {
    "colab": {
      "name": "CodeWars.ipynb",
      "provenance": [],
      "authorship_tag": "ABX9TyP+m8Rp8IaJwrmC5pNaoTNq",
      "include_colab_link": true
    },
    "kernelspec": {
      "name": "python3",
      "display_name": "Python 3"
    },
    "language_info": {
      "name": "python"
    }
  },
  "cells": [
    {
      "cell_type": "markdown",
      "metadata": {
        "id": "view-in-github",
        "colab_type": "text"
      },
      "source": [
        "<a href=\"https://colab.research.google.com/github/saima8/Problem-Solving/blob/main/CodeWars.ipynb\" target=\"_parent\"><img src=\"https://colab.research.google.com/assets/colab-badge.svg\" alt=\"Open In Colab\"/></a>"
      ]
    },
    {
      "cell_type": "markdown",
      "metadata": {
        "id": "IkWsj_kcl7jX"
      },
      "source": [
        "## Square Every Digit"
      ]
    },
    {
      "cell_type": "code",
      "metadata": {
        "colab": {
          "base_uri": "https://localhost:8080/"
        },
        "id": "6gQIHzfKj2jK",
        "outputId": "66923086-153c-46b2-fa73-e0c343d180df"
      },
      "source": [
        "def square_digits(num):\n",
        "  res = [int(x) for x in str(num)]\n",
        "  sum = \"\"\n",
        "\n",
        "  for i in res:\n",
        "    mul = i * i\n",
        "    sum += str(mul)\n",
        "  return int(sum)\n",
        "\n",
        "square_digits(9119)"
      ],
      "execution_count": 3,
      "outputs": [
        {
          "output_type": "execute_result",
          "data": {
            "text/plain": [
              "811181"
            ]
          },
          "metadata": {},
          "execution_count": 3
        }
      ]
    }
  ]
}