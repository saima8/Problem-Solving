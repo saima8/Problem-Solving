{
  "nbformat": 4,
  "nbformat_minor": 0,
  "metadata": {
    "colab": {
      "name": "Codewars-26-10-21.ipynb",
      "provenance": [],
      "authorship_tag": "ABX9TyMMmsLYR2gAzbDwMwH3VHmx",
      "include_colab_link": true
    },
    "kernelspec": {
      "name": "python3",
      "display_name": "Python 3"
    },
    "language_info": {
      "name": "python"
    }
  },
  "cells": [
    {
      "cell_type": "markdown",
      "metadata": {
        "id": "view-in-github",
        "colab_type": "text"
      },
      "source": [
        "<a href=\"https://colab.research.google.com/github/saima8/Problem-Solving/blob/main/Codewars_26_10_21.ipynb\" target=\"_parent\"><img src=\"https://colab.research.google.com/assets/colab-badge.svg\" alt=\"Open In Colab\"/></a>"
      ]
    },
    {
      "cell_type": "markdown",
      "metadata": {
        "id": "W45MSPB6pkKg"
      },
      "source": [
        "## Descending Order"
      ]
    },
    {
      "cell_type": "markdown",
      "metadata": {
        "id": "PLjx7HxitoD5"
      },
      "source": [
        "#### Using Bubble Sort"
      ]
    },
    {
      "cell_type": "code",
      "metadata": {
        "colab": {
          "base_uri": "https://localhost:8080/"
        },
        "id": "qm8QXpO5pf_1",
        "outputId": "789e692f-c85e-4ab7-83fa-2c7910656aca"
      },
      "source": [
        "num = 2435\n",
        "str(num)\n",
        "res = [int(x) for x in str(num)]\n",
        "for i in range(len(res)):\n",
        "  for j in range(0, (len(res))-i-1):\n",
        "    if res[j] < res[j+1]:\n",
        "      res[j], res[j+1] = res[j+1], res[j]\n",
        "\n",
        "strings = [str(y) for y in res]\n",
        "a_string = \"\".join(strings)\n",
        "an_integer = int(a_string)\n",
        "\n",
        "print(an_integer)\n"
      ],
      "execution_count": 11,
      "outputs": [
        {
          "output_type": "stream",
          "name": "stdout",
          "text": [
            "[5, 4, 3, 2]\n",
            "5432\n"
          ]
        }
      ]
    },
    {
      "cell_type": "markdown",
      "metadata": {
        "id": "C7KbgH3qtRYZ"
      },
      "source": [
        "## Sol 1"
      ]
    },
    {
      "cell_type": "code",
      "metadata": {
        "id": "f7VqF2Jkp5X8"
      },
      "source": [
        "def Descending_Order(num):\n",
        "    return int(\"\".join(sorted(str(num), reverse=True)))"
      ],
      "execution_count": null,
      "outputs": []
    },
    {
      "cell_type": "markdown",
      "metadata": {
        "id": "1M18XUh8tcKF"
      },
      "source": [
        "## Sol 2"
      ]
    },
    {
      "cell_type": "code",
      "metadata": {
        "id": "9IYWfv4mtdUY"
      },
      "source": [
        "def Descending_Order(num):\n",
        "    if isinstance(num, int) and num >= 0:\n",
        "        return int(''.join(sorted(str(num),reverse=True)))\n",
        "    else:\n",
        "        raise ValueError('Non-negative integer expected')"
      ],
      "execution_count": null,
      "outputs": []
    },
    {
      "cell_type": "markdown",
      "metadata": {
        "id": "WFhesgfwtexv"
      },
      "source": [
        "## Sol 3"
      ]
    },
    {
      "cell_type": "code",
      "metadata": {
        "id": "eLbW05GItf8q"
      },
      "source": [
        "def Descending_Order(num):\n",
        "    s = str(num)\n",
        "    s = list(s)\n",
        "    s = sorted(s)\n",
        "    s = reversed(s)\n",
        "    s = ''.join(s)\n",
        "    return int(s)"
      ],
      "execution_count": null,
      "outputs": []
    }
  ]
}