{
  "nbformat": 4,
  "nbformat_minor": 0,
  "metadata": {
    "colab": {
      "name": "CodeWars_23_11_21.ipynb",
      "provenance": [],
      "collapsed_sections": [],
      "authorship_tag": "ABX9TyMCHSmETPH1Cx3J/YNZAyaJ",
      "include_colab_link": true
    },
    "kernelspec": {
      "name": "python3",
      "display_name": "Python 3"
    },
    "language_info": {
      "name": "python"
    }
  },
  "cells": [
    {
      "cell_type": "markdown",
      "metadata": {
        "id": "view-in-github",
        "colab_type": "text"
      },
      "source": [
        "<a href=\"https://colab.research.google.com/github/saima8/Problem-Solving/blob/main/CodeWars_23_11_21.ipynb\" target=\"_parent\"><img src=\"https://colab.research.google.com/assets/colab-badge.svg\" alt=\"Open In Colab\"/></a>"
      ]
    },
    {
      "cell_type": "markdown",
      "metadata": {
        "id": "YHFZNw-C4IrI"
      },
      "source": [
        "Convert a String to a Number!"
      ]
    },
    {
      "cell_type": "code",
      "metadata": {
        "colab": {
          "base_uri": "https://localhost:8080/"
        },
        "id": "wgFLrixu0qAY",
        "outputId": "e32d563b-d4fd-498c-90a5-cedaa11aabb8"
      },
      "source": [
        "string = '-1234'\n",
        "\n",
        "print(int(string))\n"
      ],
      "execution_count": 4,
      "outputs": [
        {
          "output_type": "stream",
          "name": "stdout",
          "text": [
            "-1234\n"
          ]
        }
      ]
    },
    {
      "cell_type": "markdown",
      "metadata": {
        "id": "fm2Vy7hJAu60"
      },
      "source": [
        "String -> N iterations -> String"
      ]
    },
    {
      "cell_type": "code",
      "metadata": {
        "colab": {
          "base_uri": "https://localhost:8080/"
        },
        "id": "3tfXYi3n31ZO",
        "outputId": "e7881f01-f385-4362-8e17-2b0330e615f3"
      },
      "source": [
        "s = 'qwertyuio'\n",
        "shuffled = []\n",
        "for i in range(len(s)):\n",
        "    if i%2 == 0:\n",
        "        shuffled.append(s[i])\n",
        "        \n",
        "for j in range(len(s)):\n",
        "    if j%2 != 0:\n",
        "        shuffled.append(s[j])\n",
        "\n",
        "print(\"\".join(shuffled))"
      ],
      "execution_count": 6,
      "outputs": [
        {
          "output_type": "stream",
          "name": "stdout",
          "text": [
            "qetuowryi\n"
          ]
        }
      ]
    },
    {
      "cell_type": "code",
      "metadata": {
        "id": "JB7LBwJFAqfk"
      },
      "source": [
        "def jumbled_string(s, n):\n",
        "    counter = 1\n",
        "    count = 0\n",
        "    control_s = s\n",
        "    s = s[::2]+s[1::2]\n",
        "    while s != control_s:\n",
        "        s = s[::2]+s[1::2]\n",
        "        counter += 1   \n",
        "    n -= (n//counter)*counter\n",
        "    while count != n:\n",
        "        s = s[::2]+s[1::2]\n",
        "        count += 1\n",
        "    return s"
      ],
      "execution_count": null,
      "outputs": []
    },
    {
      "cell_type": "markdown",
      "metadata": {
        "id": "wI-3ynI3W6uR"
      },
      "source": [
        "Numericals of a String"
      ]
    },
    {
      "cell_type": "code",
      "metadata": {
        "colab": {
          "base_uri": "https://localhost:8080/"
        },
        "id": "iPWTz6y1W5kt",
        "outputId": "f3d11231-23e4-4cf0-caa3-1cad5be0b084"
      },
      "source": [
        "def generateDocument(characters):\n",
        "    # Write your code here.\n",
        "    charCounts = {}\n",
        "\t\n",
        "    for character in characters:\n",
        "      if character not in charCounts:\n",
        "        charCounts[character] = 0\n",
        "        \n",
        "      charCounts[character] += 1\n",
        "\n",
        "    return charCounts\n",
        "\n",
        "generateDocument(\"Hello, World!\",)"
      ],
      "execution_count": 2,
      "outputs": [
        {
          "output_type": "execute_result",
          "data": {
            "text/plain": [
              "{' ': 1,\n",
              " '!': 1,\n",
              " ',': 1,\n",
              " 'H': 1,\n",
              " 'W': 1,\n",
              " 'd': 1,\n",
              " 'e': 1,\n",
              " 'l': 3,\n",
              " 'o': 2,\n",
              " 'r': 1}"
            ]
          },
          "metadata": {},
          "execution_count": 2
        }
      ]
    },
    {
      "cell_type": "markdown",
      "metadata": {
        "id": "9mLwphNfcNDY"
      },
      "source": [
        "Numericals of a String"
      ]
    },
    {
      "cell_type": "code",
      "metadata": {
        "colab": {
          "base_uri": "https://localhost:8080/",
          "height": 36
        },
        "id": "ptzjHx_Ea1of",
        "outputId": "1cacf007-ba87-4c62-afcf-55cd65b4eeb0"
      },
      "source": [
        "def even_chars(st): \n",
        "    # your code here\n",
        "    evens = []\n",
        "    if len(st) == 1:\n",
        "        return 'invalid string'\n",
        "    for i in range(1, len(st)):\n",
        "        if i%2 != 0:\n",
        "            evens.append(st[i])\n",
        "        else:\n",
        "            continue\n",
        "            \n",
        "    return evens\n",
        "st = \"a\"\n",
        "even_chars(st)"
      ],
      "execution_count": 11,
      "outputs": [
        {
          "output_type": "execute_result",
          "data": {
            "application/vnd.google.colaboratory.intrinsic+json": {
              "type": "string"
            },
            "text/plain": [
              "'invalid string'"
            ]
          },
          "metadata": {},
          "execution_count": 11
        }
      ]
    }
  ]
}