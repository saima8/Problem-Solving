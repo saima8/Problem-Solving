{
  "nbformat": 4,
  "nbformat_minor": 0,
  "metadata": {
    "colab": {
      "name": "LeetCode-217.ipynb",
      "provenance": [],
      "authorship_tag": "ABX9TyNwuU9eJOAgH7ndgzUT540b",
      "include_colab_link": true
    },
    "kernelspec": {
      "name": "python3",
      "display_name": "Python 3"
    },
    "language_info": {
      "name": "python"
    }
  },
  "cells": [
    {
      "cell_type": "markdown",
      "metadata": {
        "id": "view-in-github",
        "colab_type": "text"
      },
      "source": [
        "<a href=\"https://colab.research.google.com/github/saima8/Problem-Solving/blob/main/LeetCode_217.ipynb\" target=\"_parent\"><img src=\"https://colab.research.google.com/assets/colab-badge.svg\" alt=\"Open In Colab\"/></a>"
      ]
    },
    {
      "cell_type": "code",
      "metadata": {
        "id": "R84jcgMwrpsl"
      },
      "source": [
        "class Solution:\n",
        "    def containsDuplicate(self, nums: List[int]) -> bool:\n",
        "        checkDuplicate =[]\n",
        "        for i in nums:      \n",
        "              if i not in checkDuplicate:\n",
        "                    checkDuplicate.append(i)\n",
        "        if len(nums) != len(checkDuplicate):\n",
        "             return True"
      ],
      "execution_count": 7,
      "outputs": []
    },
    {
      "cell_type": "code",
      "metadata": {
        "id": "kx5hMVV8xBnm"
      },
      "source": [
        "nums.sort()\n",
        "for i in range(len(nums)-1):\n",
        "    if nums[i] == nums[i + 1]:\n",
        "        return True\n",
        "return False"
      ],
      "execution_count": null,
      "outputs": []
    },
    {
      "cell_type": "code",
      "metadata": {
        "id": "2zeYpl0gxZad"
      },
      "source": [
        "class Solution:\n",
        "    def containsDuplicate(self, nums: List[int]) -> bool:\n",
        "        return len(nums) != len(set(nums))\n",
        "\n",
        "## Least run time - 27 MS"
      ],
      "execution_count": null,
      "outputs": []
    }
  ]
}