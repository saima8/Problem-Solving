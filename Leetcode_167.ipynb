{
  "nbformat": 4,
  "nbformat_minor": 0,
  "metadata": {
    "colab": {
      "name": "Leetcode-167",
      "provenance": [],
      "authorship_tag": "ABX9TyODelRNYGBW/xHxksVzk5y2",
      "include_colab_link": true
    },
    "kernelspec": {
      "name": "python3",
      "display_name": "Python 3"
    },
    "language_info": {
      "name": "python"
    }
  },
  "cells": [
    {
      "cell_type": "markdown",
      "metadata": {
        "id": "view-in-github",
        "colab_type": "text"
      },
      "source": [
        "<a href=\"https://colab.research.google.com/github/saima8/Problem-Solving/blob/main/Leetcode_167.ipynb\" target=\"_parent\"><img src=\"https://colab.research.google.com/assets/colab-badge.svg\" alt=\"Open In Colab\"/></a>"
      ]
    },
    {
      "cell_type": "code",
      "metadata": {
        "colab": {
          "base_uri": "https://localhost:8080/"
        },
        "id": "HRZvU8ESTeVQ",
        "outputId": "20587c0e-9723-43b1-953a-65f1b42ce3fe"
      },
      "source": [
        "def sortNum(numbers, target):\n",
        "  for i in range(len(numbers)-1):\n",
        "    if numbers[i]+numbers[i+1] == target:\n",
        "      return (i)+1,(i+1)+1\n",
        "    i = i + 1\n",
        "sortNum([2,7,11,15], 9)"
      ],
      "execution_count": 8,
      "outputs": [
        {
          "output_type": "execute_result",
          "data": {
            "text/plain": [
              "(1, 2)"
            ]
          },
          "metadata": {},
          "execution_count": 8
        }
      ]
    },
    {
      "cell_type": "code",
      "metadata": {
        "colab": {
          "base_uri": "https://localhost:8080/"
        },
        "id": "RZvc-pwOT9Sw",
        "outputId": "77747b05-2f9c-48c1-9b42-6a723838b7d3"
      },
      "source": [
        "def sortNum(numbers, target):\n",
        "  left = 0\n",
        "  right = len(numbers) - 1\n",
        "  while left < right:\n",
        "    if numbers[left] + numbers[right] == target:\n",
        "      return (left)+1, (right)+1\n",
        "    elif numbers[left] + numbers[right] > target:\n",
        "      right -= 1\n",
        "    else:\n",
        "      left += 1\n",
        "sortNum([2,3,4], 6)"
      ],
      "execution_count": 10,
      "outputs": [
        {
          "output_type": "execute_result",
          "data": {
            "text/plain": [
              "(1, 3)"
            ]
          },
          "metadata": {},
          "execution_count": 10
        }
      ]
    }
  ]
}