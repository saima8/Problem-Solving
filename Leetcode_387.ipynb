{
  "nbformat": 4,
  "nbformat_minor": 0,
  "metadata": {
    "colab": {
      "name": "Leetcode-387",
      "provenance": [],
      "authorship_tag": "ABX9TyM+HmoEh2jhxVWoRu+M/suM",
      "include_colab_link": true
    },
    "kernelspec": {
      "name": "python3",
      "display_name": "Python 3"
    },
    "language_info": {
      "name": "python"
    }
  },
  "cells": [
    {
      "cell_type": "markdown",
      "metadata": {
        "id": "view-in-github",
        "colab_type": "text"
      },
      "source": [
        "<a href=\"https://colab.research.google.com/github/saima8/Problem-Solving/blob/main/Leetcode_387.ipynb\" target=\"_parent\"><img src=\"https://colab.research.google.com/assets/colab-badge.svg\" alt=\"Open In Colab\"/></a>"
      ]
    },
    {
      "cell_type": "code",
      "metadata": {
        "id": "CiEW3I6csPsC"
      },
      "source": [
        "## O(n^2) time complexity\n",
        "class Solution:\n",
        "    def firstUniqChar(self, s: str) -> int:\n",
        "        for idx in range(len(s)):\n",
        "            duplicate = False\n",
        "            for idx2 in range(len(s)):\n",
        "                if s[idx] == s[idx2] and idx != idx2:\n",
        "                    duplicate = True\n",
        "            if not duplicate:\n",
        "                return idx\n",
        "        return -1"
      ],
      "execution_count": 9,
      "outputs": []
    },
    {
      "cell_type": "code",
      "metadata": {
        "colab": {
          "base_uri": "https://localhost:8080/"
        },
        "id": "5LHxwu1OsU_a",
        "outputId": "0934a76d-ce93-4407-b691-b580e11472fc"
      },
      "source": [
        "s = \"Saima\"\n",
        "\n",
        "charFreq = {}\n",
        "\n",
        "for char in s:\n",
        "  charFreq[char] = charFreq.get(char, 0) + 1\n",
        "for idx in range(len(s)):\n",
        "  char = s[idx]\n",
        "  if charFreq[char] == 1:\n",
        "    print(idx)"
      ],
      "execution_count": 14,
      "outputs": [
        {
          "output_type": "stream",
          "name": "stdout",
          "text": [
            "0\n",
            "2\n",
            "3\n"
          ]
        }
      ]
    },
    {
      "cell_type": "code",
      "metadata": {
        "id": "wZRxHCWLzFU8"
      },
      "source": [
        "class Solution:\n",
        "    def firstUniqChar(self, s: str) -> int:\n",
        "        \"\"\"\n",
        "        :type s: str\n",
        "        :rtype: int\n",
        "        \"\"\"\n",
        "        # build hash map : character and how often it appears\n",
        "        count = collections.Counter(s)\n",
        "        \n",
        "        # find the index\n",
        "        for idx, ch in enumerate(s):\n",
        "            if count[ch] == 1:\n",
        "                return idx     \n",
        "        return -1"
      ],
      "execution_count": null,
      "outputs": []
    }
  ]
}