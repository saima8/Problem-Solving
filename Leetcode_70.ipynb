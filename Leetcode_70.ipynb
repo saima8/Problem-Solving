{
  "nbformat": 4,
  "nbformat_minor": 0,
  "metadata": {
    "colab": {
      "name": "Leetcode 70.ipynb",
      "provenance": [],
      "authorship_tag": "ABX9TyOz9asCmWbbZimsLbydJn4V",
      "include_colab_link": true
    },
    "kernelspec": {
      "name": "python3",
      "display_name": "Python 3"
    },
    "language_info": {
      "name": "python"
    }
  },
  "cells": [
    {
      "cell_type": "markdown",
      "metadata": {
        "id": "view-in-github",
        "colab_type": "text"
      },
      "source": [
        "<a href=\"https://colab.research.google.com/github/saima8/Problem-Solving/blob/main/Leetcode_70.ipynb\" target=\"_parent\"><img src=\"https://colab.research.google.com/assets/colab-badge.svg\" alt=\"Open In Colab\"/></a>"
      ]
    },
    {
      "cell_type": "code",
      "metadata": {
        "id": "CYakE-l1j1W5"
      },
      "source": [
        "class Solution:\n",
        "    def climbStairs(self, n: int) -> int:\n",
        "        if n == 1 or n == 2:\n",
        "            return n\n",
        "    \n",
        "        prevPrev = 1\n",
        "        prev = 2\n",
        "        current = 0\n",
        "\n",
        "        for step in range(3, n+1):\n",
        "            # Calculate Number of Ways to Reach Current Step\n",
        "            current = prevPrev + prev\n",
        "            # Update Pointers for Next Step\n",
        "            prevPrev = prev\n",
        "            prev = current\n",
        "        return current"
      ],
      "execution_count": null,
      "outputs": []
    }
  ]
}