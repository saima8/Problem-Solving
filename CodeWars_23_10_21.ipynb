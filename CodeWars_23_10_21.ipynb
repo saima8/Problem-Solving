{
  "nbformat": 4,
  "nbformat_minor": 0,
  "metadata": {
    "colab": {
      "name": "CodeWars_23_10_21.ipynb",
      "provenance": [],
      "collapsed_sections": [],
      "authorship_tag": "ABX9TyPD+4ZmGX8VeVpJ/q8haClG",
      "include_colab_link": true
    },
    "kernelspec": {
      "name": "python3",
      "display_name": "Python 3"
    },
    "language_info": {
      "name": "python"
    }
  },
  "cells": [
    {
      "cell_type": "markdown",
      "metadata": {
        "id": "view-in-github",
        "colab_type": "text"
      },
      "source": [
        "<a href=\"https://colab.research.google.com/github/saima8/Problem-Solving/blob/main/CodeWars_23_10_21.ipynb\" target=\"_parent\"><img src=\"https://colab.research.google.com/assets/colab-badge.svg\" alt=\"Open In Colab\"/></a>"
      ]
    },
    {
      "cell_type": "markdown",
      "metadata": {
        "id": "AF6DHGNAQBaB"
      },
      "source": [
        "### Convert number to reversed array of digits"
      ]
    },
    {
      "cell_type": "code",
      "metadata": {
        "colab": {
          "base_uri": "https://localhost:8080/"
        },
        "id": "Wvq1neQzNS97",
        "outputId": "825a3a6e-0abe-4b68-d431-156e8e557e64"
      },
      "source": [
        "def digitize(n):\n",
        "    res = [int(x) for x in str(n)]\n",
        "    res.reverse()\n",
        "    return res"
      ],
      "execution_count": null,
      "outputs": [
        {
          "output_type": "execute_result",
          "data": {
            "text/plain": [
              "[3, 2, 1]"
            ]
          },
          "metadata": {},
          "execution_count": 5
        }
      ]
    },
    {
      "cell_type": "markdown",
      "metadata": {
        "id": "0BRzan8QR75s"
      },
      "source": [
        "### Abbreviate a Two Word Name"
      ]
    },
    {
      "cell_type": "code",
      "metadata": {
        "id": "vFxaPbErPYyk",
        "colab": {
          "base_uri": "https://localhost:8080/",
          "height": 35
        },
        "outputId": "9f806271-0c2d-4328-ce8d-c7f1b2105023"
      },
      "source": [
        "a = \"saima khan\"\n",
        "a.lower()\n",
        "b = a.split(\" \")\n",
        "\n",
        "b[0][0]+ \".\" + b[1][0]"
      ],
      "execution_count": 21,
      "outputs": [
        {
          "output_type": "execute_result",
          "data": {
            "application/vnd.google.colaboratory.intrinsic+json": {
              "type": "string"
            },
            "text/plain": [
              "'s.k'"
            ]
          },
          "metadata": {},
          "execution_count": 21
        }
      ]
    }
  ]
}