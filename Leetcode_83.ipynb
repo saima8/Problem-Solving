{
  "nbformat": 4,
  "nbformat_minor": 0,
  "metadata": {
    "colab": {
      "name": "Leetcode-83.ipynb",
      "provenance": [],
      "authorship_tag": "ABX9TyMIUW258owGZ0HHl87b/A7y",
      "include_colab_link": true
    },
    "kernelspec": {
      "name": "python3",
      "display_name": "Python 3"
    },
    "language_info": {
      "name": "python"
    }
  },
  "cells": [
    {
      "cell_type": "markdown",
      "metadata": {
        "id": "view-in-github",
        "colab_type": "text"
      },
      "source": [
        "<a href=\"https://colab.research.google.com/github/saima8/Problem-Solving/blob/main/Leetcode_83.ipynb\" target=\"_parent\"><img src=\"https://colab.research.google.com/assets/colab-badge.svg\" alt=\"Open In Colab\"/></a>"
      ]
    },
    {
      "cell_type": "code",
      "metadata": {
        "id": "b69S24mnuBY7"
      },
      "source": [
        "class Solution:\n",
        "    def deleteDuplicates(self, head: Optional[ListNode]) -> Optional[ListNode]:\n",
        "        currentNode = head\n",
        "        while currentNode is not None:\n",
        "            nextDistinct = currentNode.next\n",
        "            while nextDistinct is not None and nextDistinct.val == currentNode.val:\n",
        "                nextDistinctNode = nextDistinct.next\n",
        "            currentNode.next = nextDistinctNode\n",
        "            currentNode = nextDistinctNode\n",
        "        return head"
      ],
      "execution_count": null,
      "outputs": []
    },
    {
      "cell_type": "markdown",
      "metadata": {
        "id": "HB9kB5cISEYJ"
      },
      "source": [
        "Time: **O(n)** as  we didn't traverse the same value in two while loops\n",
        "\n",
        "Space: **O(1)**"
      ]
    },
    {
      "cell_type": "code",
      "metadata": {
        "id": "CgDb8r05Rxkl"
      },
      "source": [
        "# Submitted\n",
        "\n",
        "# Definition for singly-linked list.\n",
        "# class ListNode:\n",
        "#     def __init__(self, val=0, next=None):\n",
        "#         self.val = val\n",
        "#         self.next = next\n",
        "class Solution:\n",
        "    def deleteDuplicates(self, head: ListNode) -> ListNode:\n",
        "        dummy = ListNode(0)\n",
        "        dummy.next = head\n",
        "        \n",
        "        visited = set()\n",
        "        \n",
        "        while head and head.next:\n",
        "            \n",
        "            visited.add(head.val)\n",
        "            \n",
        "            while head.next and head.next.val in visited:\n",
        "                head.next = head.next.next\n",
        "            \n",
        "            \n",
        "            head = head.next\n",
        "            \n",
        "            \n",
        "        return dummy.next"
      ],
      "execution_count": null,
      "outputs": []
    },
    {
      "cell_type": "markdown",
      "metadata": {
        "id": "cGOFgNqRR6O3"
      },
      "source": [
        "Time Complexity: O(N).\n",
        "\n",
        "Space Complexity: O(N)."
      ]
    }
  ]
}