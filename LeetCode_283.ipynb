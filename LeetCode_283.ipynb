{
  "nbformat": 4,
  "nbformat_minor": 0,
  "metadata": {
    "colab": {
      "name": "LeetCode-283.ipynb",
      "provenance": [],
      "authorship_tag": "ABX9TyMUHFa0pANyK8j2Cu0uCRhS",
      "include_colab_link": true
    },
    "kernelspec": {
      "name": "python3",
      "display_name": "Python 3"
    },
    "language_info": {
      "name": "python"
    }
  },
  "cells": [
    {
      "cell_type": "markdown",
      "metadata": {
        "id": "view-in-github",
        "colab_type": "text"
      },
      "source": [
        "<a href=\"https://colab.research.google.com/github/saima8/Problem-Solving/blob/main/LeetCode_283.ipynb\" target=\"_parent\"><img src=\"https://colab.research.google.com/assets/colab-badge.svg\" alt=\"Open In Colab\"/></a>"
      ]
    },
    {
      "cell_type": "code",
      "metadata": {
        "colab": {
          "base_uri": "https://localhost:8080/"
        },
        "id": "uLFhCV1ahvEO",
        "outputId": "0d8b8ec5-68aa-4331-a21f-2ad83b346b3f"
      },
      "source": [
        "nums = [0,1,0,3,12]\n",
        "\n",
        "nonZero = []\n",
        "for i in nums:\n",
        "  if i != 0:\n",
        "    nonZero.append(i)\n",
        "\n",
        "for j in nums:\n",
        "  if j == 0:\n",
        "    nonZero.append(j)\n",
        "nonZero"
      ],
      "execution_count": 6,
      "outputs": [
        {
          "output_type": "execute_result",
          "data": {
            "text/plain": [
              "[1, 3, 12, 0, 0]"
            ]
          },
          "metadata": {},
          "execution_count": 6
        }
      ]
    },
    {
      "cell_type": "code",
      "metadata": {
        "id": "fc9c8wqtlZte"
      },
      "source": [
        "class Solution:\n",
        "    def moveZeroes(self, nums: List[int]) -> None:\n",
        "        \"\"\" Do not return anything, modify nums in-place instead. \"\"\"\n",
        "        l, r, n = 0, 0, len(nums)\n",
        "        while r < n:\n",
        "            if nums[r] != 0:\n",
        "                nums[l] = nums[r]\n",
        "                l += 1\n",
        "            r += 1\n",
        "        while l < n:\n",
        "            nums[l] = 0\n",
        "            l += 1"
      ],
      "execution_count": 8,
      "outputs": []
    }
  ]
}