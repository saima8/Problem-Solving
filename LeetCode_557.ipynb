{
  "nbformat": 4,
  "nbformat_minor": 0,
  "metadata": {
    "colab": {
      "name": "LeetCode - 557",
      "provenance": [],
      "authorship_tag": "ABX9TyMZ9b1TwlM/A8+o6hkdhX2T",
      "include_colab_link": true
    },
    "kernelspec": {
      "name": "python3",
      "display_name": "Python 3"
    },
    "language_info": {
      "name": "python"
    }
  },
  "cells": [
    {
      "cell_type": "markdown",
      "metadata": {
        "id": "view-in-github",
        "colab_type": "text"
      },
      "source": [
        "<a href=\"https://colab.research.google.com/github/saima8/Problem-Solving/blob/main/LeetCode_557.ipynb\" target=\"_parent\"><img src=\"https://colab.research.google.com/assets/colab-badge.svg\" alt=\"Open In Colab\"/></a>"
      ]
    },
    {
      "cell_type": "code",
      "metadata": {
        "id": "EZEf2Rgd7zel"
      },
      "source": [
        "class Solution:\n",
        "    def reverseWords(self, s: str) -> str:\n",
        "        words = s.split()\n",
        "        \n",
        "        reversed_words = []\n",
        "        for word in words:\n",
        "            reversed_words.append(word[::-1])\n",
        "\n",
        "        return \" \".join(reversed_words)"
      ],
      "execution_count": 17,
      "outputs": []
    }
  ]
}